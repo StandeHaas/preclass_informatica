{
 "cells": [
  {
   "cell_type": "markdown",
   "id": "90c6d6d7",
   "metadata": {},
   "source": [
    "# Financial data analysis with Python."
   ]
  },
  {
   "cell_type": "markdown",
   "id": "1064dfee",
   "metadata": {},
   "source": [
    "Python, one of the most widely used programming languages. Apart from making fun computergames like 'rock, paper, siccors', it can also be used to solve financial problems. Like analysing America's biggest indexes, the NASDAQ100 and SP500. That is what I am going to show you. I will walk through a few of the basics of financial data analysis. But in an interactive way, because you can 'play' with the code yourself. "
   ]
  },
  {
   "cell_type": "markdown",
   "id": "58c23350",
   "metadata": {},
   "source": [
    "### Importing the data."
   ]
  },
  {
   "cell_type": "markdown",
   "id": "9c65de19",
   "metadata": {},
   "source": [
    "To start, it is necessary to import various python libaries. Such as the 'pandas_datareader' with which the prices of America's largest indexes will be imported. Namely, the NASDAQ100 and SP500."
   ]
  },
  {
   "cell_type": "code",
   "execution_count": null,
   "id": "635df47e",
   "metadata": {},
   "outputs": [],
   "source": [
    "import pandas as pd\n",
    "import pandas_datareader as wd\n",
    "import pandas_datareader.data as web\n",
    "from datetime import datetime\n",
    "from matplotlib import pyplot as plt"
   ]
  },
  {
   "cell_type": "markdown",
   "id": "43a26ce4",
   "metadata": {},
   "source": [
    "Secondly, a start and end time of the analysis must be defined. Below, a period between 1-6-2021 and 1-1-2022 has been chosen, but this can of course be changed to one's own preference."
   ]
  },
  {
   "cell_type": "code",
   "execution_count": null,
   "id": "0270bc2b",
   "metadata": {},
   "outputs": [],
   "source": [
    "start = datetime(2021, 6, 1)\n",
    "end = datetime(2022, 1, 1)"
   ]
  },
  {
   "cell_type": "markdown",
   "id": "fad9e7da",
   "metadata": {},
   "source": [
    "Now comes the most important part of the analysis, importing the data. Below, we import the stock prices of the NASDAQ100 and the SP500 from FRED, 'Federal Reserve Economic Data'. Here you can see that this is done from the start to the end time. <br>\n",
    "In addition, the function .dropna() is applied to the just obtained datasets so that the dates for which there is no complete data are removed. "
   ]
  },
  {
   "cell_type": "code",
   "execution_count": null,
   "id": "9c34573c",
   "metadata": {},
   "outputs": [],
   "source": [
    "nasdaq_data = web.DataReader(\"NASDAQ100\", \"fred\", start, end)\n",
    "sp500_data = web.DataReader(\"SP500\", \"fred\", start, end)\n",
    "nasdaq_data = nasdaq_data.dropna()\n",
    "sp500_data = sp500_data.dropna()"
   ]
  },
  {
   "cell_type": "markdown",
   "id": "71cd8dc6",
   "metadata": {},
   "source": [
    "### Visualising the data."
   ]
  },
  {
   "cell_type": "markdown",
   "id": "190ca001",
   "metadata": {},
   "source": [
    "In between, we can also visualise this data. Using the 'matplotlib' library we can plot the prices in graphs. "
   ]
  },
  {
   "cell_type": "code",
   "execution_count": null,
   "id": "06cd984b",
   "metadata": {
    "scrolled": true
   },
   "outputs": [],
   "source": [
    "plt.subplot(1,2,1)\n",
    "plt.plot(nasdaq_data)\n",
    "plt.title('NASDAQ')\n",
    "plt.xticks(rotation=90)\n",
    "\n",
    "plt.subplot(1,2,2)\n",
    "plt.plot(sp500_data)\n",
    "plt.title('SP500')\n",
    "plt.xticks(rotation=90)\n",
    "\n",
    "plt.show()"
   ]
  },
  {
   "cell_type": "markdown",
   "id": "6565341b",
   "metadata": {},
   "source": [
    "Now the analysis of the data can really begin. To start, we simply convert the prices into indices where the index at the start time equals 100."
   ]
  },
  {
   "cell_type": "code",
   "execution_count": null,
   "id": "df11dba9",
   "metadata": {},
   "outputs": [],
   "source": [
    "#indices\n",
    "nasdaq_index = []\n",
    "index = nasdaq_data.iloc[0,0] / 100\n",
    "for item in nasdaq_data['NASDAQ100']:\n",
    "    nasdaq_index.append(item / index)\n",
    "    \n",
    "sp500_index = []\n",
    "index = sp500_data.iloc[0,0] / 100\n",
    "for item in sp500_data['SP500']:\n",
    "    sp500_index.append(item / index)"
   ]
  },
  {
   "cell_type": "markdown",
   "id": "84039d8e",
   "metadata": {},
   "source": [
    "Now the stock prices can be compared with each other, as they can be displayed side by side."
   ]
  },
  {
   "cell_type": "code",
   "execution_count": null,
   "id": "75707627",
   "metadata": {
    "scrolled": true
   },
   "outputs": [],
   "source": [
    "plt.plot(nasdaq_index)\n",
    "plt.plot(sp500_index)\n",
    "plt.legend(['NASDAQ100', 'SP500'])\n",
    "plt.title('Stock prices in indices.')\n",
    "plt.xticks(rotation=90)\n",
    "plt.show()"
   ]
  },
  {
   "cell_type": "markdown",
   "id": "00317013",
   "metadata": {},
   "source": [
    "### Analysing the data."
   ]
  },
  {
   "cell_type": "markdown",
   "id": "b1658aea",
   "metadata": {},
   "source": [
    "The rates of the NASDAQ and SP500 change from the start to the end time, of course, but how much do they change? Does the price change quickly? This can be expressed in a number, namely the variance. A variable that measures the dispersion of set of numbers, in this case stock prices. This can also be expressed in the formula below."
   ]
  },
  {
   "cell_type": "markdown",
   "id": "8267c23e",
   "metadata": {},
   "source": [
    "$\n",
    "\\text{Variance} \\\\\n",
    "$\n",
    "$$\n",
    "S^2 = \\frac{\\Sigma{(x_{i} -  \\bar{x})^2}}{n - 1}\n",
    "$$\n"
   ]
  },
  {
   "cell_type": "markdown",
   "id": "021a9c81",
   "metadata": {},
   "source": [
    "Here, $x_{i}$ stands for the value at one moment in time, $\\bar{x}$ is the mean of all the values and $n$ the number of values. These steps are also reflected in the code, where first the mean is calculated, then all values are looped through and finally it is devided by the total number of values to calculate the variance."
   ]
  },
  {
   "cell_type": "code",
   "execution_count": null,
   "id": "2ebe2b3e",
   "metadata": {},
   "outputs": [],
   "source": [
    "# mean\n",
    "nasdaq_mean = nasdaq_data[\"NASDAQ100\"].mean()\n",
    "sp500_mean = sp500_data['SP500'].mean()\n",
    "\n",
    "# variance\n",
    "n = 0\n",
    "for item in nasdaq_data['NASDAQ100']:\n",
    "    n += (item - nasdaq_mean)**2\n",
    "nasdaq_variance = n / len(nasdaq_data['NASDAQ100'])\n",
    "\n",
    "n = 0\n",
    "for item in sp500_data['SP500']:\n",
    "   n += (item - sp500_mean)**2\n",
    "sp500_variance = n / len(sp500_data['SP500'])\n",
    "\n",
    "print(nasdaq_variance)\n",
    "print(sp500_variance)\n"
   ]
  },
  {
   "cell_type": "markdown",
   "id": "4a282728",
   "metadata": {},
   "source": [
    "This value is really large because we are looking at a very long period instead of a shorter period which is analysed more often. Therefore this value normally is smaller. <br>\n",
    "In addition, another value can be directly calculated from this volatility, namely the standard deviation. This is also a term that is used to indicate the dispersion of a set of numbers. This value is the square root of the volatility."
   ]
  },
  {
   "cell_type": "markdown",
   "id": "22089980",
   "metadata": {},
   "source": [
    "$\n",
    "\\text{Standard deviation} \\\\\n",
    "$\n",
    "$$\n",
    "S = \\sqrt{\\frac{\\Sigma{(x_{i} -  \\bar{x})^2}}{n - 1}}\n",
    "$$"
   ]
  },
  {
   "cell_type": "code",
   "execution_count": null,
   "id": "95b2fe47",
   "metadata": {},
   "outputs": [],
   "source": [
    "# standard deviation\n",
    "nasdaq_stdev = nasdaq_variance**0.5\n",
    "sp500_stdev = sp500_variance**0.5\n",
    "\n",
    "print(nasdaq_stdev)\n",
    "print(sp500_stdev)"
   ]
  },
  {
   "cell_type": "markdown",
   "id": "0db0228e",
   "metadata": {},
   "source": [
    "So the conclusion is that the deviation of NASDAQ is greater than that of the SP500. This is also true in reality since the NASDAQ is an index that is spread over 100 reasonably related shares, whereas the SP500 is spread over 500 less related shares, so the deviation is less, because if one stock in SP500 decreases in price it less likely that other shares will do the same. So here the risk is lower, but there is also less chance to make a large profit. So it may be a good investment for more risk averse people."
   ]
  },
  {
   "cell_type": "markdown",
   "id": "6a570902",
   "metadata": {},
   "source": [
    "In addition to calculating the NASDAQ or SP500 individually, both indices can also be compared with each other. How are the two indices related to each other? If one rises, is it likely that the other will rise as well? All questions that can be answered with the correlation, a coefficient that shows the degree to which variables are related. There is a formula for this, but fortunately there is also a function in the Pandas library that does this automatically."
   ]
  },
  {
   "cell_type": "markdown",
   "id": "c9a1ace5",
   "metadata": {},
   "source": [
    "$\n",
    "\\text{Pearson correlation coefficient} \\\\\n",
    "$\n",
    "$$\n",
    "r = \\frac{\\Sigma{(x_{i} -  \\bar{x})(y_{i} -  \\bar{y})}}{\\sqrt{\\Sigma{(x_{i} -  \\bar{x})^2\\Sigma(y_{i} -\\bar{y})^2}}}\n",
    "$$"
   ]
  },
  {
   "cell_type": "code",
   "execution_count": null,
   "id": "5df97031",
   "metadata": {},
   "outputs": [],
   "source": [
    "# correlation\n",
    "correlation = nasdaq_data['NASDAQ100'].corr(sp500_data['SP500'])\n",
    "\n",
    "print(correlation)"
   ]
  },
  {
   "cell_type": "markdown",
   "id": "d279dfa9",
   "metadata": {},
   "source": [
    "This shows that the NASDAQ and the SP500 are very related to each other. The correlation takes a value between -1 and 1. Whereby a negative correlation means that if one rises in price, the other has a great chance of decreasing in price. This high positive correlation shows that if one rises, the chance that the other one rises as well is very large. This can also be seen in the earlier made graphs. This means that investing in both indices at the same time is risky, because if you make a loss on one of them, there is a big chance that you will also make a loss on the other."
   ]
  },
  {
   "cell_type": "markdown",
   "id": "a09b8fd0",
   "metadata": {},
   "source": [
    "### The conclusion."
   ]
  },
  {
   "cell_type": "markdown",
   "id": "06a67647",
   "metadata": {},
   "source": [
    "So, with the help of Python, financial data can be easily imported, visualised and analysed. In this article, only the tip of the iceberg is shown. Of course, much more is possible in the area of visualisation and analysis. In addition, there are a number of follow-up steps, namely predicting the data and letting the computer trade on the stock market without human intervention.\n"
   ]
  },
  {
   "cell_type": "markdown",
   "id": "fcfb5931",
   "metadata": {},
   "source": [
    "### The sources."
   ]
  },
  {
   "cell_type": "markdown",
   "id": "86363955",
   "metadata": {},
   "source": [
    "The following sources have been used to make this article: <br>\n",
    "https://www.codecademy.com/learn/paths/finance-python <br>\n",
    "https://pandas.pydata.org/docs/getting_started/intro_tutorials/03_subset_data.html <br>\n",
    "https://github.com/dunovank/jupyter-themes#monospace-fonts-code-cells <br>\n",
    "https://jupyterbook.org/content/math.html <br>\n",
    "https://medium.com/analytics-vidhya/writing-math-equations-in-jupyter-notebook-a-naive-introduction-a5ce87b9a214 <br>\n",
    "https://fred.stlouisfed.org/ <br>\n",
    "https://www.investopedia.com/terms/v/variance.asp <br>\n",
    "https://corporatefinanceinstitute.com/resources/knowledge/finance/correlation/ <br>"
   ]
  }
 ],
 "metadata": {
  "kernelspec": {
   "display_name": "Python 3 (ipykernel)",
   "language": "python",
   "name": "python3"
  },
  "language_info": {
   "codemirror_mode": {
    "name": "ipython",
    "version": 3
   },
   "file_extension": ".py",
   "mimetype": "text/x-python",
   "name": "python",
   "nbconvert_exporter": "python",
   "pygments_lexer": "ipython3",
   "version": "3.10.1"
  }
 },
 "nbformat": 4,
 "nbformat_minor": 5
}
